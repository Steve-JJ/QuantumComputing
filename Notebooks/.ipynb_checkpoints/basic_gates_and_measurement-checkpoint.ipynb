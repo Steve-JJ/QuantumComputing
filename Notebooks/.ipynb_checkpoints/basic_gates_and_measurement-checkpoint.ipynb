{
 "cells": [
  {
   "cell_type": "markdown",
   "metadata": {},
   "source": [
    "**This notebook demonstrates basic gates and measurement**\n",
    "$$\n",
    "   \\newcommand{\\braket}[2]{\\left\\langle{#1}\\middle|{#2}\\right\\rangle}\n",
    "   \\newcommand{\\ket}[1]{\\left|{#1}\\right\\rangle}\n",
    "   \\newcommand{\\bra}[1]{\\left\\langle{#1}\\right|}\n",
    "$$\n",
    "For multi-qubit states, we use notation:\n",
    "    $$\\ket{n...21}$$\n",
    "where $1$ is the first qubit, $2$ is the second qubit, $...$, $n$ is the last qubit. When displaying the circuit, the first qubit is at the top."
   ]
  },
  {
   "cell_type": "code",
   "execution_count": 19,
   "metadata": {},
   "outputs": [],
   "source": [
    "import os, sys\n",
    "from qiskit import *\n",
    "from qiskit.compiler import transpile, assemble\n",
    "from qiskit import QuantumRegister, ClassicalRegister\n",
    "from qiskit import QuantumCircuit, execute, Aer, IBMQ\n",
    "from qiskit.tools.visualization import plot_histogram\n",
    "\n",
    "# Import local tools\n",
    "module_path = os.path.abspath(os.path.join('..'))\n",
    "if module_path not in sys.path:\n",
    "    sys.path.append(module_path)\n",
    "import backend_tools\n",
    "\n",
    "# Get a backend\n",
    "IBMQ.load_accounts()\n",
    "simulator = backend_tools.get_device(use_sim=True, min_qubits=5)"
   ]
  },
  {
   "cell_type": "markdown",
   "metadata": {},
   "source": [
    "$X$ gate\n",
    "- is the NOT gate, or equivalently;\n",
    "- $\\pi$ rotation about the Bloch-sphere x-axis.\n",
    "\n",
    "Note: measurement along the standard basis Bloch-sphere z-axis cannot provide any information about the qubit phase"
   ]
  },
  {
   "cell_type": "code",
   "execution_count": 10,
   "metadata": {},
   "outputs": [
    {
     "data": {
      "image/png": "[encoded data removed]",
      "text/plain": [
       "<Figure size 361.2x138.46 with 1 Axes>"
      ]
     },
     "execution_count": 10,
     "metadata": {},
     "output_type": "execute_result"
    }
   ],
   "source": [
    "# Define the quantum circuit\n",
    "q = QuantumRegister(1, 'q')\n",
    "c = ClassicalRegister(1, 'c')\n",
    "circuit = QuantumCircuit(q, c)\n",
    "\n",
    "# Apply the quantum gates\n",
    "circuit.x(q[0])\n",
    "\n",
    "# Finish off with the measurement along the z-axis\n",
    "circuit.measure(q, c)\n",
    "\n",
    "# Draw the circuit\n",
    "%matplotlib inline\n",
    "circuit.draw(output=\"mpl\")"
   ]
  },
  {
   "cell_type": "code",
   "execution_count": 11,
   "metadata": {},
   "outputs": [
    {
     "data": {
      "image/png": "[encoded data removed]",
      "text/plain": [
       "<Figure size 504x360 with 1 Axes>"
      ]
     },
     "execution_count": 11,
     "metadata": {},
     "output_type": "execute_result"
    }
   ],
   "source": [
    "# Simulate or run the circuit\n",
    "job = execute(circuit, backend=simulator, shots=1024)\n",
    "result = job.result()\n",
    "\n",
    "# Plot a histogram of the results\n",
    "counts = result.get_counts(circuit)\n",
    "plot_histogram(counts)"
   ]
  },
  {
   "cell_type": "markdown",
   "metadata": {},
   "source": [
    "$H$ gate\n",
    "- creates a superposition and is used to create the $\\{\\ket{+}, \\ket{-}\\}$ basis\n",
    "- $\\pi$ rotation about the Bloch-sphere x+z-axis.\n",
    "\n",
    "It is also used for measurement about the Bloch-sphere x-axis:\n",
    "- we can't physically measure along the x-axis, so we use $H$ to rotate the component of the qubit along the x-axis so that it points along the z-axis (which can be measured).\n",
    "\n",
    "To create the $\\{\\ket{+}, \\ket{-}\\}$ basis:\n",
    "- apply H to $\\ket{0}$ to create $\\ket{+}$\n",
    "- apply X to $\\ket{0}$ (to create $\\ket{1}$) and then apply $H$ to $\\ket{1}$ to create $\\ket{-}$ \n"
   ]
  },
  {
   "cell_type": "markdown",
   "metadata": {},
   "source": [
    "**Create a superposition and measure**"
   ]
  },
  {
   "cell_type": "code",
   "execution_count": 12,
   "metadata": {},
   "outputs": [
    {
     "data": {
      "image/png": "[encoded data removed]",
      "text/plain": [
       "<Figure size 361.2x138.46 with 1 Axes>"
      ]
     },
     "execution_count": 12,
     "metadata": {},
     "output_type": "execute_result"
    }
   ],
   "source": [
    "# Define the quantum circuit\n",
    "q = QuantumRegister(1, 'q')\n",
    "c = ClassicalRegister(1, 'c')\n",
    "circuit = QuantumCircuit(q, c)\n",
    "\n",
    "# Apply the quantum gates\n",
    "circuit.h(q[0])\n",
    "\n",
    "## Finish off with the measurements\n",
    "circuit.measure(q, c)\n",
    "\n",
    "## Draw the circuit\n",
    "%matplotlib inline\n",
    "circuit.draw(output=\"mpl\")"
   ]
  },
  {
   "cell_type": "code",
   "execution_count": 13,
   "metadata": {},
   "outputs": [
    {
     "data": {
      "image/png": "[encoded data removed]",
      "text/plain": [
       "<Figure size 504x360 with 1 Axes>"
      ]
     },
     "execution_count": 13,
     "metadata": {},
     "output_type": "execute_result"
    }
   ],
   "source": [
    "# Simulate or run the circuit\n",
    "job = execute(circuit, backend=simulator, shots=1024)\n",
    "result = job.result()\n",
    "\n",
    "# Plot a histogram of the results\n",
    "counts = result.get_counts(circuit)\n",
    "plot_histogram(counts)"
   ]
  },
  {
   "cell_type": "markdown",
   "metadata": {},
   "source": [
    "**Measure in the Bloch-sphere x-axis**"
   ]
  },
  {
   "cell_type": "code",
   "execution_count": 14,
   "metadata": {},
   "outputs": [
    {
     "data": {
      "image/png": "[encoded data removed]",
      "text/plain": [
       "<Figure size 421.4x138.46 with 1 Axes>"
      ]
     },
     "execution_count": 14,
     "metadata": {},
     "output_type": "execute_result"
    }
   ],
   "source": [
    "# Define the quantum circuit\n",
    "q = QuantumRegister(1, 'q')\n",
    "c = ClassicalRegister(1, 'c')\n",
    "circuit = QuantumCircuit(q, c)\n",
    "\n",
    "# Apply the quantum gates\n",
    "# - construct |+>\n",
    "circuit.h(q[0])\n",
    "# - to measure along x-axis, rotate about x+z and then measure along z-axis\n",
    "circuit.h(q[0])\n",
    "\n",
    "## Finish off with the measurements\n",
    "circuit.measure(q, c)\n",
    "\n",
    "## Draw the circuit\n",
    "%matplotlib inline\n",
    "circuit.draw(output=\"mpl\")"
   ]
  },
  {
   "cell_type": "code",
   "execution_count": 15,
   "metadata": {},
   "outputs": [
    {
     "data": {
      "image/png": "[encoded data removed]",
      "text/plain": [
       "<Figure size 504x360 with 1 Axes>"
      ]
     },
     "execution_count": 15,
     "metadata": {},
     "output_type": "execute_result"
    }
   ],
   "source": [
    "# Simulate or run the circuit\n",
    "job = execute(circuit, backend=simulator, shots=1024)\n",
    "result = job.result()\n",
    "\n",
    "# Plot a histogram of the results\n",
    "counts = result.get_counts(circuit)\n",
    "plot_histogram(counts)"
   ]
  },
  {
   "cell_type": "markdown",
   "metadata": {},
   "source": [
    "**Gates which impart a complex phase**\n",
    "\n",
    "To construct qubits with a complex component, we can rotate $\\ket{+}$ about the Bloch-sphere z-axis using these gates:\n",
    "- $Z$ gate: $\\pi$ rotation about z-axis\n",
    "- $S$ gate: $\\frac{\\pi}{2}$ rotation about z-axis (phase flip)\n",
    "- $S^{\\dagger}$ gate: $-\\frac{\\pi}{2}$ rotation about z-axis (phase flip)\n",
    "- $T$ gate: $\\frac{\\pi}{4}$ rotation about z-axis\n",
    "- $T^{\\dagger}$ gate: $-\\frac{\\pi}{4}$ rotation about z-axis\n"
   ]
  },
  {
   "cell_type": "code",
   "execution_count": 16,
   "metadata": {},
   "outputs": [
    {
     "data": {
      "image/png": "[encoded data removed]",
      "text/plain": [
       "<Figure size 541.8x138.46 with 1 Axes>"
      ]
     },
     "execution_count": 16,
     "metadata": {},
     "output_type": "execute_result"
    }
   ],
   "source": [
    "# Define the quantum circuit\n",
    "q = QuantumRegister(1, 'q')\n",
    "c = ClassicalRegister(1, 'c')\n",
    "circuit = QuantumCircuit(q, c)\n",
    "\n",
    "# Apply the quantum gates\n",
    "# - construct |+>\n",
    "circuit.h(q[0])\n",
    "# - rotate by 3.pi/4 about z-axis\n",
    "circuit.s(q[0])\n",
    "circuit.t(q[0])\n",
    "# - to measure along x-axis, rotate about x+z and then measure along z-axis\n",
    "circuit.h(q[0])\n",
    "\n",
    "## Finish off with the measurements\n",
    "circuit.measure(q, c)\n",
    "\n",
    "## Draw the circuit\n",
    "%matplotlib inline\n",
    "circuit.draw(output=\"mpl\")"
   ]
  },
  {
   "cell_type": "code",
   "execution_count": 17,
   "metadata": {},
   "outputs": [
    {
     "data": {
      "image/png": "[encoded data removed]",
      "text/plain": [
       "<Figure size 504x360 with 1 Axes>"
      ]
     },
     "execution_count": 17,
     "metadata": {},
     "output_type": "execute_result"
    }
   ],
   "source": [
    "# Simulate or run the circuit\n",
    "job = execute(circuit, backend=simulator, shots=1024)\n",
    "result = job.result()\n",
    "\n",
    "# Plot a histogram of the results\n",
    "counts = result.get_counts(circuit)\n",
    "plot_histogram(counts)"
   ]
  },
  {
   "cell_type": "markdown",
   "metadata": {},
   "source": [
    "**Controlled NOT gate**\n",
    "\n",
    "The target qubit is flipped (*i.e.* apply the $NOT$ or $X$ gate) *iff* the control bit is $\\ket{1}$."
   ]
  },
  {
   "cell_type": "code",
   "execution_count": 20,
   "metadata": {},
   "outputs": [
    {
     "data": {
      "image/png": "[encoded data removed]",
      "text/plain": [
       "<Figure size 541.8x258.86 with 1 Axes>"
      ]
     },
     "execution_count": 20,
     "metadata": {},
     "output_type": "execute_result"
    }
   ],
   "source": [
    "# Define the quantum circuit\n",
    "q = QuantumRegister(2, 'q')\n",
    "c = ClassicalRegister(2, 'c')\n",
    "circuit = QuantumCircuit(q, c)\n",
    "\n",
    "# Apply the quantum gates\n",
    "# - construct |01>\n",
    "circuit.x(q[0])\n",
    "# - apply CNOT (the first argument is the control qubit, the second argument is the target qubit)\n",
    "circuit.cx(q[0], q[1])\n",
    "\n",
    "# Finish off with the measurements\n",
    "circuit.measure(q, c)\n",
    "\n",
    "# Draw the circuit\n",
    "%matplotlib inline\n",
    "circuit.draw(output=\"mpl\")"
   ]
  },
  {
   "cell_type": "code",
   "execution_count": 21,
   "metadata": {},
   "outputs": [
    {
     "data": {
      "image/png": "[encoded data removed]",
      "text/plain": [
       "<Figure size 504x360 with 1 Axes>"
      ]
     },
     "execution_count": 21,
     "metadata": {},
     "output_type": "execute_result"
    }
   ],
   "source": [
    "# Simulate or run the circuit\n",
    "job = execute(circuit, backend=simulator, shots=1024)\n",
    "result = job.result()\n",
    "\n",
    "# Plot a histogram of the results\n",
    "counts = result.get_counts(circuit)\n",
    "plot_histogram(counts)"
   ]
  }
 ],
 "metadata": {
  "kernelspec": {
   "display_name": "Python 3",
   "language": "python",
   "name": "python3"
  },
  "language_info": {
   "codemirror_mode": {
    "name": "ipython",
    "version": 3
   },
   "file_extension": ".py",
   "mimetype": "text/x-python",
   "name": "python",
   "nbconvert_exporter": "python",
   "pygments_lexer": "ipython3",
   "version": "3.7.3"
  }
 },
 "nbformat": 4,
 "nbformat_minor": 2
}
